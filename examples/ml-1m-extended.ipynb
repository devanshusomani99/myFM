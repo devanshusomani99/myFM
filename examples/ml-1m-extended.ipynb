{
 "cells": [
  {
   "cell_type": "code",
   "execution_count": 1,
   "metadata": {},
   "outputs": [],
   "source": [
    "import numpy as np\n",
    "from sklearn import metrics\n",
    "from sklearn.preprocessing import OneHotEncoder\n",
    "import myfm\n",
    "from myfm import RelationBlock\n",
    "import pandas as pd\n",
    "from scipy import sparse as sps\n",
    "\n",
    "# read movielens 1m data.\n",
    "from myfm.utils.benchmark_data import MovieLens1MDataManager"
   ]
  },
  {
   "cell_type": "code",
   "execution_count": 2,
   "metadata": {},
   "outputs": [],
   "source": [
    "data_manager = MovieLens1MDataManager()"
   ]
  },
  {
   "cell_type": "code",
   "execution_count": 3,
   "metadata": {},
   "outputs": [],
   "source": [
    "df_train, df_test = data_manager.load_rating_kfold_split(K=10, fold=0)\n",
    "\n",
    "# For ordered probit. rating values are now [0, 1, 2, 3, 4].\n",
    "df_train.rating -= 1\n",
    "df_test.rating -= 1\n",
    "\n",
    "# Create dictionaries which map user/movie ids to internal indices.\n",
    "# We have also prepared a utility class which makes this common routine easier.\n",
    "# See the script version of this notebook (ml-1m-regression.py).\n",
    "unique_user_ids = np.unique(df_train.user_id)\n",
    "unique_movie_ids = np.unique(df_test.movie_id)\n",
    "user_id_to_index = { uid: i for i, uid in enumerate(unique_user_ids)}\n",
    "movie_id_to_index = { mid: i for i, mid in enumerate(unique_movie_ids)}"
   ]
  },
  {
   "cell_type": "code",
   "execution_count": 4,
   "metadata": {},
   "outputs": [],
   "source": [
    "# treat the days of events as categorical variable\n",
    "date_be = OneHotEncoder(handle_unknown='ignore').fit(\n",
    "    df_train.timestamp.dt.floor('d').values.reshape(-1, 1)\n",
    ")\n",
    "def categorize_date(dates: pd):\n",
    "    return date_be.transform(\n",
    "        pd.to_datetime(dates).dt.floor('d').values.reshape((-1, 1))\n",
    "    )"
   ]
  },
  {
   "cell_type": "markdown",
   "metadata": {},
   "source": [
    "## Implement flavor of SVD++\n",
    "\n",
    "We add \"all users who have evaluated a movie in the train set\" as the movie's feature."
   ]
  },
  {
   "cell_type": "code",
   "execution_count": 5,
   "metadata": {},
   "outputs": [],
   "source": [
    "# Implement side information and flavor of SVD++\n",
    "# We add \"all users who have evaluated a movie in the train set\" or\n",
    "# \"all movies rated by a user\" as a feture of user/movie.\n",
    "use_date = True # use date info or not\n",
    "use_iu = True # use implicit user feature\n",
    "use_ii = True # use implicit item feature\n",
    "\n",
    "movie_vs_watched = dict()\n",
    "user_vs_watched = dict()\n",
    "for row in df_train.itertuples():\n",
    "    user_id = row.user_id\n",
    "    movie_id = row.movie_id\n",
    "    movie_vs_watched.setdefault(movie_id, list()).append(user_id)\n",
    "    user_vs_watched.setdefault(user_id, list()).append(movie_id)\n",
    "\n",
    "if use_date:\n",
    "    X_date_train = categorize_date(df_train.timestamp)\n",
    "    X_date_test  = categorize_date(df_test.timestamp)\n",
    "else:\n",
    "    X_date_train, X_date_test = (None, None)"
   ]
  },
  {
   "cell_type": "code",
   "execution_count": 6,
   "metadata": {},
   "outputs": [],
   "source": [
    "# setup grouping\n",
    "feature_group_sizes = []\n",
    "if use_date:\n",
    "    feature_group_sizes.append(\n",
    "        len(date_be.categories_[0]), # date\n",
    "    )\n",
    "\n",
    "feature_group_sizes.append(len(user_id_to_index)) # user ids\n",
    "\n",
    "if use_iu:\n",
    "    feature_group_sizes.append(len(movie_id_to_index))\n",
    "\n",
    "feature_group_sizes.append(len(movie_id_to_index)) # movie ids\n",
    "                           \n",
    "if use_ii:\n",
    "    feature_group_sizes.append(\n",
    "        len(user_id_to_index) # all users who watched the movies\n",
    "    )"
   ]
  },
  {
   "cell_type": "code",
   "execution_count": 7,
   "metadata": {},
   "outputs": [],
   "source": [
    "# given user/movie ids, add additional infos and return it as sparse\n",
    "def augment_user_id(user_ids):\n",
    "    X = sps.lil_matrix((len(user_ids), len(user_id_to_index) + (len(movie_id_to_index) if use_iu else 0) ))\n",
    "    for index, user_id in enumerate(user_ids):\n",
    "        if user_id in user_id_to_index:\n",
    "            X[index, user_id_to_index[user_id]] = 1\n",
    "        if not use_iu:\n",
    "            continue\n",
    "        watched_movies = user_vs_watched.get(user_id, [])\n",
    "        normalizer = 1 / max(len(watched_movies), 1) ** 0.5\n",
    "        for mid in watched_movies:\n",
    "            if mid in movie_id_to_index:\n",
    "                X[index, movie_id_to_index[mid] + len(user_id_to_index)] = normalizer\n",
    "    return X.tocsr()\n",
    "\n",
    "def augment_movie_id(movie_ids):\n",
    "    X = sps.lil_matrix((len(movie_ids), len(movie_id_to_index)+ (len(user_id_to_index) if use_ii else 0 )))\n",
    "    for index, movie_id in enumerate(movie_ids):\n",
    "        if movie_id in movie_id_to_index:\n",
    "            X[index, movie_id_to_index[movie_id]] = 1\n",
    "        if not use_ii:\n",
    "            continue\n",
    "        watched_users = movie_vs_watched.get(movie_id, [])\n",
    "        normalizer = 1 / max(len(watched_users), 1) ** 0.5\n",
    "        for uid in watched_users:\n",
    "            if uid in user_id_to_index:\n",
    "                X[index, user_id_to_index[uid] + len(movie_id_to_index)] = normalizer\n",
    "    return X.tocsr()"
   ]
  },
  {
   "cell_type": "markdown",
   "metadata": {},
   "source": [
    "## Use Relation Block Format to represent the data\n",
    "See [\\[Rendle 2013\\]](http://www.vldb.org/pvldb/vol6/p337-rendle.pdf) how comlexity dcrease drastically in this case (and most cases with bipartite graph structure)."
   ]
  },
  {
   "cell_type": "code",
   "execution_count": 8,
   "metadata": {},
   "outputs": [],
   "source": [
    "# Create RelationBlock.\n",
    "train_blocks = []\n",
    "test_blocks = []\n",
    "for source, target in [(df_train, train_blocks), (df_test, test_blocks)]:\n",
    "    unique_users, user_map = np.unique(source.user_id, return_inverse=True)\n",
    "    target.append(\n",
    "        RelationBlock(user_map, augment_user_id(unique_users))\n",
    "    )\n",
    "    unique_movies, movie_map = np.unique(source.movie_id, return_inverse=True)\n",
    "    target.append(\n",
    "        RelationBlock(movie_map, augment_movie_id(unique_movies))\n",
    "    )"
   ]
  },
  {
   "cell_type": "markdown",
   "metadata": {},
   "source": [
    "### Regression"
   ]
  },
  {
   "cell_type": "code",
   "execution_count": 9,
   "metadata": {},
   "outputs": [
    {
     "name": "stderr",
     "output_type": "stream",
     "text": [
      "alpha = 1.87 w0 = 2.36 : 100%|██████████| 512/512 [15:08<00:00,  1.77s/it]\n"
     ]
    }
   ],
   "source": [
    "fm = myfm.MyFMRegressor(rank=32)\n",
    "fm.fit(\n",
    "    X_date_train, df_train.rating.values, X_rel=train_blocks,\n",
    "    group_shapes=feature_group_sizes,\n",
    "    n_iter=512\n",
    ");"
   ]
  },
  {
   "cell_type": "markdown",
   "metadata": {},
   "source": [
    "### Ordered Probit Regression"
   ]
  },
  {
   "cell_type": "code",
   "execution_count": 11,
   "metadata": {},
   "outputs": [
    {
     "name": "stderr",
     "output_type": "stream",
     "text": [
      "w0 = 0.07, cutpoint = ['-2.387', '-1.341', '-0.035', '1.479'] : 100%|██████████| 512/512 [19:51<00:00,  2.33s/it]\n"
     ]
    }
   ],
   "source": [
    "fm_ordered = myfm.MyFMOrderedProbit(rank=32)\n",
    "fm_ordered.fit(\n",
    "    X_date_train, df_train.rating.values, X_rel=train_blocks,\n",
    "    group_shapes=feature_group_sizes,\n",
    "    n_iter=512\n",
    ");"
   ]
  },
  {
   "cell_type": "code",
   "execution_count": 12,
   "metadata": {},
   "outputs": [],
   "source": [
    "test_prediction_regressor = fm.predict(X_date_test, test_blocks)"
   ]
  },
  {
   "cell_type": "code",
   "execution_count": 13,
   "metadata": {},
   "outputs": [],
   "source": [
    "test_prediction_oprobit = fm_ordered.predict_proba(X_date_test, test_blocks)"
   ]
  },
  {
   "cell_type": "code",
   "execution_count": 14,
   "metadata": {},
   "outputs": [],
   "source": [
    "test_prediction_oprobit_mean = test_prediction_oprobit.dot(np.arange(5))"
   ]
  },
  {
   "cell_type": "code",
   "execution_count": 15,
   "metadata": {},
   "outputs": [
    {
     "data": {
      "text/plain": [
       "0.8200480622868483"
      ]
     },
     "execution_count": 15,
     "metadata": {},
     "output_type": "execute_result"
    }
   ],
   "source": [
    "# RMSE for regressor\n",
    "# you can clip the value with\n",
    "test_prediction_regressor[test_prediction_regressor >=4] = 4\n",
    "test_prediction_regressor[test_prediction_regressor <=0] = 0\n",
    "(\n",
    "    (df_test.rating.values - test_prediction_regressor)**2\n",
    ").mean() ** 0.5"
   ]
  },
  {
   "cell_type": "code",
   "execution_count": 16,
   "metadata": {},
   "outputs": [
    {
     "data": {
      "text/plain": [
       "0.8188777300410494"
      ]
     },
     "execution_count": 16,
     "metadata": {},
     "output_type": "execute_result"
    }
   ],
   "source": [
    "# RMSE for ordered probit regressor\n",
    "(\n",
    "    (df_test.rating.values - test_prediction_oprobit_mean)**2\n",
    ").mean() ** 0.5"
   ]
  },
  {
   "cell_type": "markdown",
   "metadata": {},
   "source": [
    "### Cutpoints vs ratings\n",
    "\n",
    "A slight non-linearity seems to exist.  \n",
    "That might explain why the performance improves if we use ordered probit regression."
   ]
  },
  {
   "cell_type": "code",
   "execution_count": 17,
   "metadata": {},
   "outputs": [
    {
     "data": {
      "text/plain": [
       "<matplotlib.collections.PolyCollection at 0x7f3630855190>"
      ]
     },
     "execution_count": 17,
     "metadata": {},
     "output_type": "execute_result"
    },
    {
     "data": {
      "image/png": "[encoded data removed]",
      "text/plain": [
       "<Figure size 432x288 with 1 Axes>"
      ]
     },
     "metadata": {
      "needs_background": "light"
     },
     "output_type": "display_data"
    }
   ],
   "source": [
    "%matplotlib inline\n",
    "from matplotlib import pyplot as plt\n",
    "cutpoints = np.vstack([x.cutpoints[0] - x.w0 for x in fm_ordered.predictor_.samples])\n",
    "\n",
    "cp_std = cutpoints.std(axis=0)\n",
    "cp_mean = cutpoints.mean(axis=0)\n",
    "plt.plot(cp_mean);\n",
    "plt.fill_between(np.arange(4), cp_mean - 2 * cp_std, cp_mean + cp_std * 2, alpha=0.3)"
   ]
  }
 ],
 "metadata": {
  "kernelspec": {
   "display_name": "Python 3",
   "language": "python",
   "name": "python3"
  },
  "language_info": {
   "codemirror_mode": {
    "name": "ipython",
    "version": 3
   },
   "file_extension": ".py",
   "mimetype": "text/x-python",
   "name": "python",
   "nbconvert_exporter": "python",
   "pygments_lexer": "ipython3",
   "version": "3.7.4"
  }
 },
 "nbformat": 4,
 "nbformat_minor": 4
}
